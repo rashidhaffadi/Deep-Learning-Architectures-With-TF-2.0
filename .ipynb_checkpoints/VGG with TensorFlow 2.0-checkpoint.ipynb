{
 "cells": [
  {
   "cell_type": "code",
   "execution_count": 1,
   "metadata": {},
   "outputs": [],
   "source": [
    "%reload_ext autoreload\n",
    "%autoreload 2\n",
    "%matplotlib inline"
   ]
  },
  {
   "cell_type": "code",
   "execution_count": 2,
   "metadata": {},
   "outputs": [],
   "source": [
    "import tensorflow as tf\n",
    "import tensorflow.keras as keras\n",
    "from tensorflow.keras import layers"
   ]
  },
  {
   "cell_type": "code",
   "execution_count": 10,
   "metadata": {},
   "outputs": [],
   "source": [
    "class VGGBlock(keras.Model):\n",
    "    def __init__(self,nc, nf, kernel, input_shape=None):\n",
    "        super(VGGBlock, self).__init__()\n",
    "        if input_shape and input_shape is not None: self.conv1 = layers.Conv2D(nf, kernel, input_shape=input_shape, activation='relu', padding='same')\n",
    "        else: self.conv1 = layers.Conv2D(nf, kernel, activation='relu', padding='same')\n",
    "        self.conv = []\n",
    "        for _ in range(nc-1):\n",
    "                self.conv.append(layers.Conv2D(nf, kernel, activation='relu', padding='same'))\n",
    "        self.pool = layers.MaxPool2D(padding='same')\n",
    "        \n",
    "    def call(self, x):\n",
    "        x = self.conv1(x)\n",
    "        for i in range(nc-1):\n",
    "            x = self.conv[i](x)\n",
    "        x = self.pool(x)\n",
    "        print('block', x.shape)\n",
    "        return x"
   ]
  },
  {
   "cell_type": "code",
   "execution_count": 11,
   "metadata": {},
   "outputs": [],
   "source": [
    "class VGG16(keras.Model):\n",
    "    def __init__(self, input_shape, data_format='channels_last', num_classes=1000):\n",
    "        super(VGG16, self).__init__(name='VGG16')\n",
    "        keras.backend.set_image_data_format(data_format)\n",
    "        self.layers_ = [64, 64*2, 4*64, 8*64, 8*64]\n",
    "        self.ncs = [2, 2, 2, 3, 3]\n",
    "        self.body = keras.Sequential([VGGBlock(nc, nf, (3, 3)) for nf, nc in zip(self.layers_, self.ncs)], name='Body')\n",
    "        self.flatten = layers.Flatten()\n",
    "        self.fc1 = layers.Dense(4096, activation='relu')\n",
    "        self.fc2 = layers.Dense(4096, activation='relu')\n",
    "        self.out = layers.Dense(1000, activation='softmax')\n",
    "    def call(self, x):\n",
    "        print(x.shape)\n",
    "        x = self.body(x)\n",
    "        print(x.shape)\n",
    "        x = self.flatten(x)\n",
    "        print(x.shape)\n",
    "        x = self.fc1(x)\n",
    "        print(x.shape)\n",
    "        x = self.fc2(x)\n",
    "        print(x.shape)\n",
    "        x = self.out(x)\n",
    "        print(x.shape)\n",
    "        return x"
   ]
  },
  {
   "cell_type": "code",
   "execution_count": null,
   "metadata": {},
   "outputs": [],
   "source": [
    "class VGG19(keras.Model):\n",
    "    def __init__(self, input_shape, data_format='channels_last', num_classes=1000):\n",
    "        super(VGG16, self).__init__(name='VGG19')\n",
    "        keras.backend.set_image_data_format(data_format)\n",
    "        self.layers_ = [64, 2*64, 4*64, 8*64, 8*64]\n",
    "        self.ncs = [2, 2, 2, 4, 4]\n",
    "        self.body = keras.Sequential([VGGBlock(nc, nf, (3, 3)) for nf, nc in zip(self.layers_, self.ncs)], name='Body')\n",
    "        self.flatten = layers.Flatten()\n",
    "        self.fc1 = layers.Dense(4096, activation='relu')\n",
    "        self.fc2 = layers.Dense(4096, activation='relu')\n",
    "        self.out = layers.Dense(1000, activation='softmax')\n",
    "    def call(self, x):\n",
    "        print(x.shape)\n",
    "        x = self.body(x)\n",
    "        print(x.shape)\n",
    "        x = self.flatten(x)\n",
    "        print(x.shape)\n",
    "        x = self.fc1(x)\n",
    "        print(x.shape)\n",
    "        x = self.fc2(x)\n",
    "        print(x.shape)\n",
    "        x = self.out(x)\n",
    "        print(x.shape)\n",
    "        return x"
   ]
  },
  {
   "cell_type": "code",
   "execution_count": 5,
   "metadata": {},
   "outputs": [
    {
     "name": "stdout",
     "output_type": "stream",
     "text": [
      "(1, 224, 224, 3)\n",
      "block (1, 112, 112, 64)\n",
      "block (1, 56, 56, 128)\n",
      "block (1, 28, 28, 256)\n",
      "block (1, 14, 14, 512)\n",
      "block (1, 7, 7, 512)\n",
      "(1, 7, 7, 512)\n",
      "(1, 25088)\n",
      "(1, 4096)\n",
      "(1, 4096)\n",
      "(1, 1000)\n"
     ]
    }
   ],
   "source": [
    "vgg16 = VGG16((224, 224, 3))\n",
    "vgg16.build((1, 224, 224, 3))"
   ]
  },
  {
   "cell_type": "code",
   "execution_count": 6,
   "metadata": {},
   "outputs": [
    {
     "name": "stdout",
     "output_type": "stream",
     "text": [
      "Model: \"VGG16\"\n",
      "_________________________________________________________________\n",
      "Layer (type)                 Output Shape              Param #   \n",
      "=================================================================\n",
      "Body (Sequential)            multiple                  9404992   \n",
      "_________________________________________________________________\n",
      "flatten (Flatten)            multiple                  0         \n",
      "_________________________________________________________________\n",
      "dense (Dense)                multiple                  102764544 \n",
      "_________________________________________________________________\n",
      "dense_1 (Dense)              multiple                  16781312  \n",
      "_________________________________________________________________\n",
      "dense_2 (Dense)              multiple                  4097000   \n",
      "=================================================================\n",
      "Total params: 133,047,848\n",
      "Trainable params: 133,047,848\n",
      "Non-trainable params: 0\n",
      "_________________________________________________________________\n"
     ]
    }
   ],
   "source": [
    "vgg16.summary()"
   ]
  },
  {
   "cell_type": "code",
   "execution_count": 9,
   "metadata": {},
   "outputs": [
    {
     "name": "stdout",
     "output_type": "stream",
     "text": [
      "shit\n"
     ]
    }
   ],
   "source": [
    "for _ in range(1):\n",
    "    print('shit')"
   ]
  },
  {
   "cell_type": "code",
   "execution_count": null,
   "metadata": {},
   "outputs": [],
   "source": []
  }
 ],
 "metadata": {
  "kernelspec": {
   "display_name": "Python 3",
   "language": "python",
   "name": "python3"
  },
  "language_info": {
   "codemirror_mode": {
    "name": "ipython",
    "version": 3
   },
   "file_extension": ".py",
   "mimetype": "text/x-python",
   "name": "python",
   "nbconvert_exporter": "python",
   "pygments_lexer": "ipython3",
   "version": "3.6.9"
  }
 },
 "nbformat": 4,
 "nbformat_minor": 2
}
